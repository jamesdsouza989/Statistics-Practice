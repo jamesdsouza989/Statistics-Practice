{
 "cells": [
  {
   "cell_type": "code",
   "execution_count": 20,
   "id": "2b5252fa-660e-49bf-8de9-34093137b3da",
   "metadata": {},
   "outputs": [],
   "source": [
    "import numpy as np\n",
    "from statistics import mode\n",
    "import pandas as pd"
   ]
  },
  {
   "cell_type": "code",
   "execution_count": 21,
   "id": "aa76a2a2-de0b-4fa2-9e59-cfd009ad466b",
   "metadata": {},
   "outputs": [],
   "source": [
    "population = np.random.randint(10,20,50)"
   ]
  },
  {
   "cell_type": "code",
   "execution_count": 22,
   "id": "1f3a1a36-228b-43cc-aafe-186bb4217524",
   "metadata": {},
   "outputs": [
    {
     "data": {
      "text/plain": [
       "array([17, 15, 13, 16, 19, 19, 17, 17, 19, 13, 15, 16, 14, 11, 19, 15, 17,\n",
       "       11, 16, 16, 16, 16, 14, 12, 16, 14, 16, 10, 17, 19, 11, 13, 11, 17,\n",
       "       16, 17, 19, 19, 18, 18, 14, 18, 13, 19, 19, 14, 12, 17, 15, 14])"
      ]
     },
     "execution_count": 22,
     "metadata": {},
     "output_type": "execute_result"
    }
   ],
   "source": [
    "population"
   ]
  },
  {
   "cell_type": "code",
   "execution_count": 23,
   "id": "67bec3e0-082a-426e-9dae-e127a4561dfb",
   "metadata": {},
   "outputs": [],
   "source": [
    "mean = np.mean(population)"
   ]
  },
  {
   "cell_type": "code",
   "execution_count": 24,
   "id": "bd25876b-ff90-4e4b-82e2-c82e4168da95",
   "metadata": {},
   "outputs": [],
   "source": [
    "median = np.median(population)"
   ]
  },
  {
   "cell_type": "code",
   "execution_count": 25,
   "id": "7cf601df-4e12-43a8-a8cf-f1c3ed21357c",
   "metadata": {},
   "outputs": [],
   "source": [
    "mode = mode(population)"
   ]
  },
  {
   "cell_type": "code",
   "execution_count": 31,
   "id": "92ed29cb-0a9a-4c2d-b38c-f7853802823c",
   "metadata": {},
   "outputs": [],
   "source": [
    "variance = np.var(population)"
   ]
  },
  {
   "cell_type": "code",
   "execution_count": 30,
   "id": "8cd1a81c-3683-4501-8ab1-27f73b776f5d",
   "metadata": {},
   "outputs": [],
   "source": [
    "std_dev = np.std(population)"
   ]
  },
  {
   "cell_type": "code",
   "execution_count": 33,
   "id": "a90bfd74-527a-4155-a1e0-2167764bcbda",
   "metadata": {},
   "outputs": [
    {
     "name": "stdout",
     "output_type": "stream",
     "text": [
      "Mean: 15.58\n",
      "Median: 16.0\n",
      "Mode: 16 \n",
      "Variance: 6.483600000000001 \n",
      "Standard Deviation: 2.5462914208707534\n"
     ]
    }
   ],
   "source": [
    "print(f\"Mean: {mean}\\nMedian: {median}\\nMode: {mode} \\nVariance: {variance} \\nStandard Deviation: {std_dev}\")"
   ]
  },
  {
   "cell_type": "code",
   "execution_count": 41,
   "id": "14eb50f6-b730-4d88-a949-af60e0270107",
   "metadata": {},
   "outputs": [],
   "source": [
    "sample1 = np.random.choice(population, 10)\n",
    "sample2 = np.random.choice(population, 10)\n",
    "sample3 = np.random.choice(population, 10)\n",
    "sample4 = np.random.choice(population, 10)"
   ]
  },
  {
   "cell_type": "code",
   "execution_count": 45,
   "id": "6f294c94-f447-457e-9100-fa74af9ac6a6",
   "metadata": {},
   "outputs": [
    {
     "name": "stdout",
     "output_type": "stream",
     "text": [
      "Sample_1: [16 11 15 17 17 19 17 13 10 18] \n",
      "Sample_2: [19 19 19 19 14 16 14 19 10 13] \n",
      "Sample_3: [19 14 14 14 19 13 16 17 14 15] \n",
      "Sample_4: [14 16 14 12 16 13 14 14 19 10]\n"
     ]
    }
   ],
   "source": [
    "print(f\"Sample_1: {sample1} \\nSample_2: {sample2} \\nSample_3: {sample3} \\nSample_4: {sample4}\")"
   ]
  },
  {
   "cell_type": "code",
   "execution_count": 46,
   "id": "421f0414-8799-434d-824b-6b77afbc8aec",
   "metadata": {},
   "outputs": [],
   "source": [
    "all_samples = [sample1, sample2, sample3, sample4]"
   ]
  },
  {
   "cell_type": "code",
   "execution_count": 51,
   "id": "143b0c72-ba37-4b78-8542-27ba43e37cdc",
   "metadata": {},
   "outputs": [
    {
     "name": "stdout",
     "output_type": "stream",
     "text": [
      "[16 11 15 17 17 19 17 13 10 18]\n",
      "[19 19 19 19 14 16 14 19 10 13]\n",
      "[19 14 14 14 19 13 16 17 14 15]\n",
      "[14 16 14 12 16 13 14 14 19 10]\n"
     ]
    }
   ],
   "source": [
    "for i in all_samples:\n",
    "    np.mean(i)\n",
    "    print(i)"
   ]
  },
  {
   "cell_type": "markdown",
   "id": "70e1a483-97c4-4fc3-9332-a8715805eeb7",
   "metadata": {},
   "source": [
    "Central Limit Theorm"
   ]
  },
  {
   "cell_type": "markdown",
   "id": "8f558980-d2c1-44dd-a25e-12e32f185f94",
   "metadata": {},
   "source": [
    "population = np.random.binomial(10, 0.5, 10000)"
   ]
  },
  {
   "cell_type": "code",
   "execution_count": 87,
   "id": "a1a5fd8e-92d6-4cd6-b6a8-8ea53ebdb28e",
   "metadata": {},
   "outputs": [],
   "source": [
    "import seaborn as sns"
   ]
  },
  {
   "cell_type": "code",
   "execution_count": 88,
   "id": "1b574627-9a9c-4994-9d23-c68d48df7096",
   "metadata": {},
   "outputs": [
    {
     "name": "stderr",
     "output_type": "stream",
     "text": [
      "/tmp/ipykernel_123/2958836585.py:1: UserWarning: \n",
      "\n",
      "`distplot` is a deprecated function and will be removed in seaborn v0.14.0.\n",
      "\n",
      "Please adapt your code to use either `displot` (a figure-level function with\n",
      "similar flexibility) or `histplot` (an axes-level function for histograms).\n",
      "\n",
      "For a guide to updating your code to use the new functions, please see\n",
      "https://gist.github.com/mwaskom/de44147ed2974457ad6372750bbe5751\n",
      "\n",
      "  sns.distplot(population)\n"
     ]
    },
    {
     "data": {
      "text/plain": [
       "<AxesSubplot: ylabel='Density'>"
      ]
     },
     "execution_count": 88,
     "metadata": {},
     "output_type": "execute_result"
    },
    {
     "data": {
      "image/png": "[encoded data removed]",
      "text/plain": [
       "<Figure size 640x480 with 1 Axes>"
      ]
     },
     "metadata": {},
     "output_type": "display_data"
    }
   ],
   "source": [
    "sns.distplot(population)"
   ]
  },
  {
   "cell_type": "code",
   "execution_count": 89,
   "id": "1c340c0e-d706-4367-a4a3-6daf4aa9c71a",
   "metadata": {},
   "outputs": [],
   "source": [
    "sample_size = int(len(population)*0.3)"
   ]
  },
  {
   "cell_type": "code",
   "execution_count": 90,
   "id": "45b45a0a-d5c5-4d68-a02e-d3f2d60698fd",
   "metadata": {},
   "outputs": [],
   "source": [
    "sample_mean = []\n",
    "for i in range(1,1500):\n",
    "    sample = np.random.choice(population, size = sample_size)\n",
    "    sample_mean.append(np.mean(sample))"
   ]
  },
  {
   "cell_type": "code",
   "execution_count": 96,
   "id": "915468bb-eff3-4308-8ba0-7fe69305862c",
   "metadata": {},
   "outputs": [
    {
     "name": "stderr",
     "output_type": "stream",
     "text": [
      "/tmp/ipykernel_123/1362136136.py:1: UserWarning: \n",
      "\n",
      "`distplot` is a deprecated function and will be removed in seaborn v0.14.0.\n",
      "\n",
      "Please adapt your code to use either `displot` (a figure-level function with\n",
      "similar flexibility) or `histplot` (an axes-level function for histograms).\n",
      "\n",
      "For a guide to updating your code to use the new functions, please see\n",
      "https://gist.github.com/mwaskom/de44147ed2974457ad6372750bbe5751\n",
      "\n",
      "  sns.distplot(sample_mean, color=\"green\")\n"
     ]
    },
    {
     "data": {
      "text/plain": [
       "<AxesSubplot: ylabel='Density'>"
      ]
     },
     "execution_count": 96,
     "metadata": {},
     "output_type": "execute_result"
    },
    {
     "data": {
      "image/png": "[encoded data removed]",
      "text/plain": [
       "<Figure size 640x480 with 1 Axes>"
      ]
     },
     "metadata": {},
     "output_type": "display_data"
    }
   ],
   "source": [
    "sns.distplot(sample_mean, color=\"green\")"
   ]
  },
  {
   "cell_type": "code",
   "execution_count": 93,
   "id": "d6a96434-08b7-4c04-b71f-5116e5ac7cee",
   "metadata": {},
   "outputs": [
    {
     "data": {
      "text/plain": [
       "5.0163927062486104"
      ]
     },
     "execution_count": 93,
     "metadata": {},
     "output_type": "execute_result"
    }
   ],
   "source": [
    "np.mean(sample_mean)"
   ]
  },
  {
   "cell_type": "markdown",
   "id": "ae06b814-d59c-4d23-8342-4208cbfb84d3",
   "metadata": {},
   "source": [
    "Confidence Interval and Margin of error"
   ]
  },
  {
   "cell_type": "code",
   "execution_count": 100,
   "id": "0aedd994-9733-4b7e-bf90-40f37b55dab8",
   "metadata": {},
   "outputs": [],
   "source": [
    "import scipy.stats as stats"
   ]
  },
  {
   "cell_type": "code",
   "execution_count": 102,
   "id": "2d5e2ec0-d53c-4837-8c7d-38670f392c83",
   "metadata": {},
   "outputs": [
    {
     "data": {
      "text/plain": [
       "1.6448536269514722"
      ]
     },
     "execution_count": 102,
     "metadata": {},
     "output_type": "execute_result"
    }
   ],
   "source": [
    "stats.norm.ppf(q = .95)"
   ]
  },
  {
   "cell_type": "code",
   "execution_count": 103,
   "id": "c263515e-f585-4b7c-a900-f8b4dc76c83a",
   "metadata": {},
   "outputs": [
    {
     "data": {
      "text/plain": [
       "2.3263478740408408"
      ]
     },
     "execution_count": 103,
     "metadata": {},
     "output_type": "execute_result"
    }
   ],
   "source": [
    "stats.norm.ppf(q = .99)"
   ]
  },
  {
   "cell_type": "markdown",
   "id": "023394a2-204c-4cc8-8c96-5aca6c117a4d",
   "metadata": {},
   "source": [
    "Z test"
   ]
  },
  {
   "cell_type": "code",
   "execution_count": 124,
   "id": "a6b7b1d7-732f-4807-97fa-a24371ee8efb",
   "metadata": {},
   "outputs": [],
   "source": [
    "from numpy.random import randn"
   ]
  },
  {
   "cell_type": "markdown",
   "id": "7783f7fc-ee95-4096-8269-f650203d1c2e",
   "metadata": {},
   "source": [
    "###\n",
    "null_mean = 168\n",
    "sample_size = 36\n",
    "alternate_mean = 169.5\n",
    "CI = .95\n",
    "alpha = .05\n",
    "###"
   ]
  },
  {
   "cell_type": "code",
   "execution_count": 131,
   "id": "f34cf96f-fe54-416a-a397-8d9349c838b1",
   "metadata": {},
   "outputs": [
    {
     "data": {
      "text/plain": [
       "array([ 0.18767513, -0.94547943,  1.89031228,  0.83940797, -1.14068745,\n",
       "       -0.7068689 ,  2.02296961,  1.06343264, -0.19180216, -0.39193485,\n",
       "        0.17003937,  1.39214928, -1.39324119,  0.0570443 , -0.10077171,\n",
       "        1.98449066,  1.86106499, -0.19918312, -0.80093867, -1.47595879,\n",
       "        0.00489677, -0.60914025,  0.73870752,  0.28523798, -0.23575704,\n",
       "       -1.36366108, -0.35211457,  0.08845202, -0.98297912, -0.75328771,\n",
       "       -0.26906435,  0.84759687, -1.06588469,  0.77957575,  0.31935581,\n",
       "       -1.22992284,  0.04621871, -0.11184337, -0.0757671 ,  0.42490174,\n",
       "        1.72811625, -1.61148187,  0.24588183, -0.5051713 , -0.0125775 ,\n",
       "       -0.9247599 , -0.182185  ,  0.88974496,  0.41013583, -0.76641374,\n",
       "        0.09140136,  0.07495257,  0.84923172, -0.86506764,  1.04000821,\n",
       "       -0.20461226,  0.93975108,  0.07657147,  0.64934991, -1.62211243,\n",
       "       -1.60631614, -0.23747279, -0.33302094, -0.46723757, -0.67046576,\n",
       "       -0.69005888, -0.98738599, -0.79365762,  1.11251984,  0.98680006,\n",
       "        1.08083109,  0.40144735,  0.22270349,  1.06319227, -0.43499289,\n",
       "        0.01145507,  0.26592363,  0.98845524, -0.89238899,  0.89898245,\n",
       "       -0.15376453, -0.70698562, -1.97108601, -1.11493377, -0.56811136,\n",
       "       -0.04647779, -1.48968774, -2.58475161, -1.93039084,  1.01224494,\n",
       "       -1.58440615,  0.89857432,  2.9919418 , -1.90966987, -0.31032203,\n",
       "        0.10249138, -1.19064736,  0.55372684, -0.76212582,  1.44812056])"
      ]
     },
     "execution_count": 131,
     "metadata": {},
     "output_type": "execute_result"
    }
   ],
   "source": [
    "population = randn(100)\n",
    "population"
   ]
  },
  {
   "cell_type": "code",
   "execution_count": 132,
   "id": "2898afc8-92f0-460b-ab4a-c528bbee9d7f",
   "metadata": {},
   "outputs": [
    {
     "name": "stderr",
     "output_type": "stream",
     "text": [
      "/tmp/ipykernel_123/2958836585.py:1: UserWarning: \n",
      "\n",
      "`distplot` is a deprecated function and will be removed in seaborn v0.14.0.\n",
      "\n",
      "Please adapt your code to use either `displot` (a figure-level function with\n",
      "similar flexibility) or `histplot` (an axes-level function for histograms).\n",
      "\n",
      "For a guide to updating your code to use the new functions, please see\n",
      "https://gist.github.com/mwaskom/de44147ed2974457ad6372750bbe5751\n",
      "\n",
      "  sns.distplot(population)\n"
     ]
    },
    {
     "data": {
      "text/plain": [
       "<AxesSubplot: ylabel='Density'>"
      ]
     },
     "execution_count": 132,
     "metadata": {},
     "output_type": "execute_result"
    },
    {
     "data": {
      "image/png": "[encoded data removed]",
      "text/plain": [
       "<Figure size 640x480 with 1 Axes>"
      ]
     },
     "metadata": {},
     "output_type": "display_data"
    }
   ],
   "source": [
    "sns.distplot(population)"
   ]
  },
  {
   "cell_type": "code",
   "execution_count": 133,
   "id": "b4e7d029-facf-482e-9fc1-b41e77d20868",
   "metadata": {},
   "outputs": [
    {
     "name": "stdout",
     "output_type": "stream",
     "text": [
      "Population mean: -0.08488943141877922, population standard deviation: 1.0139449084509182\n"
     ]
    }
   ],
   "source": [
    "print(f\"Population mean: {np.mean(population)}, population standard deviation: {np.std(population)}\")"
   ]
  },
  {
   "cell_type": "code",
   "execution_count": 149,
   "id": "c1e9ae18-cb71-4857-ac00-98c1af4ec1ac",
   "metadata": {},
   "outputs": [],
   "source": [
    "null_mean = 0.022"
   ]
  },
  {
   "cell_type": "code",
   "execution_count": 136,
   "id": "64879482-3014-437e-83e9-1b6ec348c576",
   "metadata": {},
   "outputs": [
    {
     "data": {
      "text/plain": [
       "0.95"
      ]
     },
     "execution_count": 136,
     "metadata": {},
     "output_type": "execute_result"
    }
   ],
   "source": [
    "CI"
   ]
  },
  {
   "cell_type": "code",
   "execution_count": 137,
   "id": "71b5dcdd-3af6-4f74-9e19-3b0aee99a949",
   "metadata": {},
   "outputs": [
    {
     "data": {
      "text/plain": [
       "0.05"
      ]
     },
     "execution_count": 137,
     "metadata": {},
     "output_type": "execute_result"
    }
   ],
   "source": [
    "alpha"
   ]
  },
  {
   "cell_type": "code",
   "execution_count": 138,
   "id": "cf215721-d2f6-4af2-9f01-2dbb988a3510",
   "metadata": {},
   "outputs": [
    {
     "ename": "NameError",
     "evalue": "name 'p' is not defined",
     "output_type": "error",
     "traceback": [
      "\u001b[0;31m---------------------------------------------------------------------------\u001b[0m",
      "\u001b[0;31mNameError\u001b[0m                                 Traceback (most recent call last)",
      "Cell \u001b[0;32mIn [138], line 1\u001b[0m\n\u001b[0;32m----> 1\u001b[0m \u001b[43mp\u001b[49m\u001b[38;5;241m<\u001b[39m\u001b[38;5;241m=\u001b[39m\u001b[38;5;241m0.05\u001b[39m \u001b[38;5;66;03m#Reject the null hypothesis\u001b[39;00m\n\u001b[1;32m      2\u001b[0m p\u001b[38;5;241m>\u001b[39m\u001b[38;5;241m0.05\u001b[39m\n",
      "\u001b[0;31mNameError\u001b[0m: name 'p' is not defined"
     ]
    }
   ],
   "source": [
    "p<=0.05 #Reject the null hypothesis\n",
    "p>0.05 #Accept the null hypothesis"
   ]
  },
  {
   "cell_type": "code",
   "execution_count": 139,
   "id": "03896221-af99-4346-888e-d331c7248fb1",
   "metadata": {},
   "outputs": [],
   "source": [
    "from statsmodels.stats.weightstats import ztest"
   ]
  },
  {
   "cell_type": "code",
   "execution_count": 150,
   "id": "63c35fc2-9b4f-494e-8c18-babb1d138f94",
   "metadata": {},
   "outputs": [],
   "source": [
    "z_score, p_value = ztest(population, value=null_mean,    alternative='larger')"
   ]
  },
  {
   "cell_type": "code",
   "execution_count": 151,
   "id": "2f76dce8-3c84-4a57-a6bf-316712163898",
   "metadata": {},
   "outputs": [
    {
     "data": {
      "text/plain": [
       "-1.048909467711018"
      ]
     },
     "execution_count": 151,
     "metadata": {},
     "output_type": "execute_result"
    }
   ],
   "source": [
    "z_score"
   ]
  },
  {
   "cell_type": "code",
   "execution_count": 152,
   "id": "ec8d7a21-83e5-4694-9094-fcd3d586b398",
   "metadata": {},
   "outputs": [
    {
     "data": {
      "text/plain": [
       "0.852890106192322"
      ]
     },
     "execution_count": 152,
     "metadata": {},
     "output_type": "execute_result"
    }
   ],
   "source": [
    "p_value"
   ]
  },
  {
   "cell_type": "code",
   "execution_count": null,
   "id": "d84bf215-fb5c-4cb9-bb3e-187de87fcea8",
   "metadata": {},
   "outputs": [],
   "source": []
  }
 ],
 "metadata": {
  "kernelspec": {
   "display_name": "Python 3 (ipykernel)",
   "language": "python",
   "name": "python3"
  },
  "language_info": {
   "codemirror_mode": {
    "name": "ipython",
    "version": 3
   },
   "file_extension": ".py",
   "mimetype": "text/x-python",
   "name": "python",
   "nbconvert_exporter": "python",
   "pygments_lexer": "ipython3",
   "version": "3.10.6"
  }
 },
 "nbformat": 4,
 "nbformat_minor": 5
}
